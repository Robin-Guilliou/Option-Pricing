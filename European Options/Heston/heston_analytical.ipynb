{
 "cells": [
  {
   "cell_type": "markdown",
   "id": "fae42e73",
   "metadata": {},
   "source": [
    "# Heston model: Analytical solution\n",
    "\n",
    "In this notebook, we show how to price European options with the Heston stochastic volatility model.\n",
    "\n",
    "The Heston model is defined by the following system of stochastic differential equations where the stock price follows a geometric Brownian motion and its variance follows a Cox-Ingersoll-Ross (CIR) process,\n",
    "\n",
    "\\begin{align}\n",
    "\t&dS_t = \\mu S_t dt + \\sqrt{v_t} S_t dW_t^{(1)} \\\\\n",
    "\t&dv_t = \\kappa ( \\theta - v_t ) dt + \\sigma \\sqrt{v_t} dW_t^{(2)} \\\\\n",
    "\t&dW_t^{(1)} dW_t^{(2)} = \\rho dt\n",
    "\\end{align}\n",
    "\n",
    "where $S_t$ is the underlying stock price, $v_t$ is its variance, $\\mu$ is the expected return, $\\kappa$ is the mean-reversion rate, $\\theta$ is the long-term variance, $\\sigma$ is the volatility of volatility, $W_t$ is a Wiener process and $\\rho$ is the correlation coefficient between the Brownian motions. There are also two initial parameters, $S_0$ and $v_0$ which are non-negative.\n",
    "\n",
    "The process $v_t$ is strictly positive if the Feller condition is satisfied. It is given by\n",
    "\n",
    "\\begin{equation}\n",
    "    2 \\kappa \\theta > \\sigma^2.\n",
    "\\end{equation}\n",
    "\n",
    "The Heston model yields a semi-closed form solution for pricing European equity options. The price for a European call option, $C(S, v, t)$, at time $t$ with time to maturity $\\tau = T - t$ and strike $K$ is given by\n",
    "\n",
    "\\begin{equation}\n",
    "\tC(S, v, t) = S_t e^{-q \\tau} P_1 - K e^{-r \\tau} P_2 \n",
    "\\end{equation}\n",
    "\n",
    "where $q$ is the dividend rate and $r$ is the interest rate and $P_j, j = \\{1, 2\\}$ are risk-neutral probabilities obtained by inverting the characteristic function $f_j$ (given below). Hence,\n",
    "\n",
    "\\begin{equation}\n",
    "    P_j = \\frac{1}{2} + \\frac{1}{\\pi} \\int_0^{\\infty} \\operatorname{Re} \\left[ \\frac{e^{-i \\phi \\ln(K)}f_j}{i \\phi} \\right] d\\phi\n",
    "\\end{equation}\n",
    "\n",
    "where\n",
    "\n",
    "\\begin{align}\n",
    "\t&f_j = \\exp(C_j + D_j v_t + i \\phi \\ln S_t) \\\\\n",
    "\t&C_j = (r - q) \\phi i \\tau + \\frac{\\kappa \\theta}{\\sigma^2} \\left[ (b_j - \\rho \\sigma \\phi i + d_j) \\tau - 2 \\ln \\left( \\frac{1 - g_j e^{d_j \\tau}}{1 - g_j} \t\\right) \\right] \\\\[5pt]\n",
    "\t&D_j = \\frac{b_j - \\rho \\sigma \\phi i + d_j}{\\sigma^2} \\left( \\frac{1 - e^{d_j \\tau}}{1 - g_j e^{d_j \\tau}} \\right) \\\\\n",
    "\t&g_j = \\frac{b_j - \\rho \\sigma \\phi i + d_j}{b_j - \\rho \\sigma \\phi i - d_j} \\\\\n",
    "\t&d_j = \\sqrt{(\\rho \\sigma \\phi i)^2 - \\sigma^2 ( 2 u_j \\phi i - \\phi^2 )}\n",
    "\\end{align}\n",
    "\n",
    "In the above expressions, $i = \\sqrt{-1}$ is the imaginary unit, $u_1 = \\frac{1}{2}$, $u_2 = - \\frac{1}{2}$, $b_1 = \\kappa + \\lambda - \\rho \\sigma$ and $b_2 = \\kappa + \\lambda$. The parameter $\\lambda$ is the market price of volatility risk. \n",
    "\n",
    "First, let's implement the function to price call options. Note that we price the option at time $t = 0$, therefore, $\\tau = T$."
   ]
  },
  {
   "cell_type": "code",
   "execution_count": 1,
   "id": "9ee566ed",
   "metadata": {},
   "outputs": [],
   "source": [
    "import numpy as np\n",
    "from scipy.integrate import quad\n",
    "\n",
    "# Heston call price\n",
    "def Heston_call_price(S0, v0, K, T, r, q, kappa, theta, sigma, rho, lmbda):\n",
    "    p1 = p_Heston(S0, v0, K, r, q, T, kappa, theta, sigma, rho, lmbda, 1)\n",
    "    p2 = p_Heston(S0, v0, K, r, q, T, kappa, theta, sigma, rho, lmbda, 2)\n",
    "    return S0 * np.exp(-q*T) * p1 - K * np.exp(-r*T) * p2\n",
    "\n",
    "# Heston probability\n",
    "def p_Heston(S0, v0, K, r, q, T, kappa, theta, sigma, rho, lmbda, j):\n",
    "    integrand = lambda phi: np.real(np.exp(-1j * phi * np.log(K)) \\\n",
    "                                    * f_Heston(phi, S0, v0, T, r, q, kappa, theta, sigma, rho, lmbda, j) \\\n",
    "                                    / (1j * phi))    \n",
    "    integral = quad(integrand, 0, 100)[0]\n",
    "    return 0.5 + (1 / np.pi) * integral\n",
    "\n",
    "# Heston characteristic function\n",
    "def f_Heston(phi, S0, v0, T, r, q, kappa, theta, sigma, rho, lmbda, j):\n",
    "        \n",
    "    if j == 1:\n",
    "        u = 0.5\n",
    "        b = kappa + lmbda - rho * sigma\n",
    "    else:\n",
    "        u = -0.5\n",
    "        b = kappa + lmbda\n",
    "    \n",
    "    a = kappa * theta\n",
    "    d = np.sqrt((rho * sigma * phi * 1j - b)**2 - sigma**2 * (2 * u * phi * 1j - phi**2))\n",
    "    g = (b - rho * sigma * phi * 1j + d) / (b - rho * sigma * phi * 1j - d)\n",
    "    C = (r - q) * phi * 1j * T + (a / sigma**2) \\\n",
    "            * ((b - rho * sigma * phi * 1j + d) * T - 2 * np.log((1 - g * np.exp(d * T))/(1 - g)))\n",
    "    D = (b - rho * sigma * phi * 1j + d) / sigma**2 * ((1 - np.exp(d * T)) / (1 - g * np.exp(d * T)))\n",
    "    \n",
    "    return np.exp(C + D * v0 + 1j * phi * np.log(S0))"
   ]
  },
  {
   "cell_type": "markdown",
   "id": "a51aeca1",
   "metadata": {},
   "source": [
    "Now, let's define some parameters and price a call option. We also price the corresponding put using the put-call parity, i.e.,\n",
    "\n",
    "\\begin{equation}\n",
    "    V_p = V_c + Ke^{-rT} - S_0e^{-qT}\n",
    "\\end{equation}\n",
    "\n",
    "where $V_p$ is the price of the put option and $V_c$ is the price of the call option."
   ]
  },
  {
   "cell_type": "code",
   "execution_count": 2,
   "id": "c85ce861",
   "metadata": {},
   "outputs": [
    {
     "name": "stdout",
     "output_type": "stream",
     "text": [
      "Call price: 7.78614\n",
      "Put price:  1.91469\n"
     ]
    }
   ],
   "source": [
    "# Parameters\n",
    "T = 1        # maturity\n",
    "S0 = 55      # spot price\n",
    "K = 50       # strike price\n",
    "r = 0.04     # risk-free interest rate\n",
    "q = 0.02     # dividend rate\n",
    "v0 = 0.04    # initial variance\n",
    "rho = -0.7   # correlation between Brownian motions\n",
    "kappa = 2    # mean reversion rate\n",
    "theta = 0.04 # Long term mean of variance\n",
    "sigma = 0.3  # volatility of volatility\n",
    "lmbda = 0    # market price of volatility risk\n",
    "\n",
    "# Option values\n",
    "Vc = Heston_call_price(S0, v0, K, T, r, q, kappa, theta, sigma, rho, lmbda) # call\n",
    "Vp = Vc + K*np.exp(-r*T) - S0*np.exp(-q*T) # put with put-call parity\n",
    "\n",
    "print('Call price: ' + str(round(Vc, 5)))\n",
    "print('Put price:  ' + str(round(Vp, 5)))"
   ]
  },
  {
   "cell_type": "code",
   "execution_count": null,
   "id": "b1bb2579",
   "metadata": {},
   "outputs": [],
   "source": []
  }
 ],
 "metadata": {
  "authors": [
   {
    "email": "robin.guilliou@gmail.com",
    "name": "Robin Guilliou"
   }
  ],
  "kernelspec": {
   "display_name": "Python 3 (ipykernel)",
   "language": "python",
   "name": "python3"
  },
  "language_info": {
   "codemirror_mode": {
    "name": "ipython",
    "version": 3
   },
   "file_extension": ".py",
   "mimetype": "text/x-python",
   "name": "python",
   "nbconvert_exporter": "python",
   "pygments_lexer": "ipython3",
   "version": "3.7.11"
  },
  "latex_envs": {
   "LaTeX_envs_menu_present": true,
   "autoclose": false,
   "autocomplete": true,
   "bibliofile": "biblio.bib",
   "cite_by": "apalike",
   "current_citInitial": 1,
   "eqLabelWithNumbers": true,
   "eqNumInitial": 1,
   "hotkeys": {
    "equation": "Ctrl-E",
    "itemize": "Ctrl-I"
   },
   "labels_anchors": false,
   "latex_user_defs": false,
   "report_style_numbering": false,
   "user_envs_cfg": false
  },
  "toc": {
   "base_numbering": 1,
   "nav_menu": {},
   "number_sections": true,
   "sideBar": true,
   "skip_h1_title": true,
   "title_cell": "Table of Contents",
   "title_sidebar": "Contents",
   "toc_cell": false,
   "toc_position": {},
   "toc_section_display": true,
   "toc_window_display": false
  },
  "varInspector": {
   "cols": {
    "lenName": 16,
    "lenType": 16,
    "lenVar": 40
   },
   "kernels_config": {
    "python": {
     "delete_cmd_postfix": "",
     "delete_cmd_prefix": "del ",
     "library": "var_list.py",
     "varRefreshCmd": "print(var_dic_list())"
    },
    "r": {
     "delete_cmd_postfix": ") ",
     "delete_cmd_prefix": "rm(",
     "library": "var_list.r",
     "varRefreshCmd": "cat(var_dic_list()) "
    }
   },
   "types_to_exclude": [
    "module",
    "function",
    "builtin_function_or_method",
    "instance",
    "_Feature"
   ],
   "window_display": false
  }
 },
 "nbformat": 4,
 "nbformat_minor": 5
}

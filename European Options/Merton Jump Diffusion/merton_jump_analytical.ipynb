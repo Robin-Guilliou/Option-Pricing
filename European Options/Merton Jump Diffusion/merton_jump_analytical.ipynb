{
 "cells": [
  {
   "cell_type": "markdown",
   "id": "4195a462",
   "metadata": {},
   "source": [
    "# Merton Jump Diffusion: Analytical solution\n",
    "\n",
    "In this notebook, we show how to price European options with the analytical solution of the Merton jump diffusion model.\n",
    "\n",
    "The value of an European option under the Merton jump diffusion model is given by\n",
    "\n",
    "\\begin{equation}\n",
    "    V_{MJD} = \\sum_{k = 1}^{\\infty} \\frac{\\exp \\left(- \\lambda T e^{\\mu_j + \\frac{1}{2}\\sigma_j^2} \\right) \\left( \\lambda T e^{\\mu_j + \\frac{1}{2}\\sigma_j^2} \\right)^k  }{k!} V_{BS}(S, K, T, \\sigma_k, r_k, q)\n",
    "\\end{equation}\n",
    "\n",
    "where $S$ is the stock price, $K$ is the strike price, $T$ is the time to maturity, $q$ is the dividend rate, $V_{BS}(\\Theta)$ is the value of the option under the Black-Scoles model with parameters $\\Theta$, $\\lambda$ is the rate of arrival of the jumps, $\\mu_j$ is the mean of the jumps and $\\sigma_j$ is the standard deviation of the jumps. The volatility to plug in the Black-Scholes model at each $k$, $\\sigma_k$, is given by\n",
    "\n",
    "\\begin{equation}\n",
    "    \\sigma_k = \\sqrt{\\sigma^2 + k \\frac{\\sigma_j^2}{T}}\n",
    "\\end{equation}\n",
    "\n",
    "where $\\sigma$ is the stock volatility. The risk-free rate to plug in the Black-Scholes model at each $k$, $r_k$, is given by\n",
    "\n",
    "\\begin{equation}\n",
    "    r_k = r - \\lambda(e^{\\mu_j + \\frac{1}{2}\\sigma_j^2} - 1) + \\frac{k \\left( \\mu_j + \\frac{1}{2}\\sigma_j^2 \\right)}{T} \n",
    "\\end{equation}\n",
    "\n",
    "where $r$ is the risk-free rate.\n",
    "\n",
    "Of course, when implementing the solution, we truncate the infinite summation. As $k$ increases, the components to be added become smaller and smaller (with the factorial in the denominator). Therefore, we can use a maximum value of $k$ high enough for the additional components to be negligible. Alternatively, we can select a threshold below which additional components of the sum are not added. \n",
    "\n",
    "Let's implement the function."
   ]
  },
  {
   "cell_type": "code",
   "execution_count": 1,
   "id": "bd2409fb",
   "metadata": {},
   "outputs": [],
   "source": [
    "import numpy as np\n",
    "from scipy.stats import norm\n",
    "\n",
    "# Function for analytical Black-Scholes price\n",
    "def bs_price(S, K, T, r, q, sigma, call=True):\n",
    "    d1 = (np.log(S/K) + (r - q + sigma**2/2)*T) / (sigma*np.sqrt(T))\n",
    "    d2 = d1 - sigma * np.sqrt(T)\n",
    "    if call:\n",
    "        return S * np.exp(-q*T) * norm.cdf(d1) - K * np.exp(-r*T)* norm.cdf(d2)\n",
    "    else:\n",
    "        return K * np.exp(-r*T) * norm.cdf(-d2) - S * np.exp(-q*T) * norm.cdf(-d1)                 \n",
    "\n",
    "# Function for analytical Merton jump diffusion price\n",
    "def merton_jump_analytical(S, K, T, r, q, sigma, mu_j , sigma_j, lam, call=True, max_iter=100, stop_cond=1e-15):\n",
    "    V = 0\n",
    "    for k in range(max_iter):\n",
    "        r_k = r - lam*(np.exp(mu_j + 0.5*sigma_j**2)-1) + (k*(mu_j + 0.5*sigma_j**2)) / T\n",
    "        sigma_k = np.sqrt( sigma**2 + (k* sigma_j**2) / T)\n",
    "        sum_k = (np.exp(-(np.exp(mu_j + 0.5*sigma_j**2))*lam*T) \\\n",
    "                * ((np.exp(mu_j + 0.5*sigma_j**2))*lam*T)**k / (np.math.factorial(k))) \\\n",
    "                * bs_price(S, K, T, r_k, q, sigma_k, call)\n",
    "        V += sum_k\n",
    "        if sum_k < stop_cond: # if the last added component is below the threshold, return the current sum\n",
    "            return V\n",
    "    return V # return the value of the option when the maximum value of k is reached"
   ]
  },
  {
   "cell_type": "markdown",
   "id": "5ac0a2c4",
   "metadata": {},
   "source": [
    "Now, let's define some parameters and compute the call and put values."
   ]
  },
  {
   "cell_type": "code",
   "execution_count": 2,
   "id": "e63b74e9",
   "metadata": {},
   "outputs": [
    {
     "name": "stdout",
     "output_type": "stream",
     "text": [
      "Call price: 0.1362\n",
      "Put price:  0.2023\n"
     ]
    }
   ],
   "source": [
    "# Market parameters\n",
    "T = 1      # maturity\n",
    "S0 = 1     # spot price\n",
    "K = 1.1    # strike price\n",
    "r = 0.05   # risk-free interest rate\n",
    "q = 0.02   # dividend rate\n",
    "\n",
    "# Model parameter\n",
    "sigma = 0.4 # volatility\n",
    "\n",
    "# Model parameters for the jump part\n",
    "mu_j = -0.1\n",
    "sigma_j = 0.15\n",
    "lmbda = 0.5\n",
    "\n",
    "# Call value\n",
    "Vc = merton_jump_analytical(S0, K, T, r, q, sigma, mu_j, sigma_j, lmbda, call=True, max_iter=100, stop_cond=1e-15)\n",
    "\n",
    "# Put value\n",
    "Vp = merton_jump_analytical(S0, K, T, r, q, sigma, mu_j, sigma_j, lmbda, call=False, max_iter=100, stop_cond=1e-15)\n",
    "\n",
    "print('Call price: ' + str(round(Vc, 4)))\n",
    "print('Put price:  ' + str(round(Vp, 4)))"
   ]
  },
  {
   "cell_type": "code",
   "execution_count": null,
   "id": "0409092b",
   "metadata": {},
   "outputs": [],
   "source": []
  }
 ],
 "metadata": {
  "authors": [
   {
    "email": "robin.guilliou@gmail.com",
    "name": "Robin Guilliou"
   }
  ],
  "kernelspec": {
   "display_name": "Python 3 (ipykernel)",
   "language": "python",
   "name": "python3"
  },
  "language_info": {
   "codemirror_mode": {
    "name": "ipython",
    "version": 3
   },
   "file_extension": ".py",
   "mimetype": "text/x-python",
   "name": "python",
   "nbconvert_exporter": "python",
   "pygments_lexer": "ipython3",
   "version": "3.7.11"
  },
  "latex_envs": {
   "LaTeX_envs_menu_present": true,
   "autoclose": false,
   "autocomplete": true,
   "bibliofile": "biblio.bib",
   "cite_by": "apalike",
   "current_citInitial": 1,
   "eqLabelWithNumbers": true,
   "eqNumInitial": 1,
   "hotkeys": {
    "equation": "Ctrl-E",
    "itemize": "Ctrl-I"
   },
   "labels_anchors": false,
   "latex_user_defs": false,
   "report_style_numbering": false,
   "user_envs_cfg": false
  },
  "toc": {
   "base_numbering": 1,
   "nav_menu": {},
   "number_sections": true,
   "sideBar": true,
   "skip_h1_title": true,
   "title_cell": "Table of Contents",
   "title_sidebar": "Contents",
   "toc_cell": false,
   "toc_position": {},
   "toc_section_display": true,
   "toc_window_display": false
  }
 },
 "nbformat": 4,
 "nbformat_minor": 5
}

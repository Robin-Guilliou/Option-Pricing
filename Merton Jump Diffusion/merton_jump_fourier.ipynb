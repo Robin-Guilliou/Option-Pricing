{
 "cells": [
  {
   "cell_type": "markdown",
   "id": "polish-twist",
   "metadata": {},
   "source": [
    "# Merton Jump Diffusion: Option pricing with Fourier transform\n",
    "\n",
    "## Mathematics\n",
    "\n",
    "The mathematics behind option pricing using the Fourier transform method are detailed in the notebook on Fourier transform pricing with the Black-Scholes model. Because the method is very similar with a Merton jump diffusion model, we will only explain the key differences here and you can refer to the other notebook for detailed mathematics. \n",
    "\n",
    "The main difference is the characteristic function of the process. The Merton jump diffusion process is obtained by adding a normal compound Poisson process to the geometric Brownian motion. The resulting characteristic function is given by\n",
    "\n",
    "\\begin{equation}\n",
    "    \\psi(\\xi) = \\exp \\left[ i \\xi \\left(r - q - \\frac{1}{2} \\sigma^2 - \\lambda \\left(e^{i \\xi \\mu_J + \\frac{1}{2} \\xi^2 \\sigma_J^2} - 1 \\right) \\right) \\Delta t - \\frac{1}{2} \\xi^2 \\sigma^2 \\Delta t + \\lambda \\left(e^{i \\xi \\mu_J - \\frac{1}{2} \\xi^2 \\sigma_J^2} - 1 \\right) \\Delta t \\right]\n",
    "\\end{equation}\n",
    "\n",
    "where $\\sigma$ is the stock price volatility, $r$ is the risk-free interest rate, $q$ is the dividend rate, $\\lambda$ is the rate of arrival of the jumps, $\\mu_J$ is the mean of the jump sizes, $\\sigma_J$ is the volatility of the jump sizes and $i$ is the imaginary unit such that $i = \\sqrt{-1}$.\n",
    "\n",
    "## Implementation\n",
    "\n",
    "First, let's import some useful libraries."
   ]
  },
  {
   "cell_type": "code",
   "execution_count": 1,
   "id": "seven-attendance",
   "metadata": {},
   "outputs": [],
   "source": [
    "import numpy as np\n",
    "import matplotlib.pyplot as plt\n",
    "from scipy.interpolate import interp1d"
   ]
  },
  {
   "cell_type": "markdown",
   "id": "musical-healthcare",
   "metadata": {},
   "source": [
    "Let's implement a function which returns the damped payoff and its Fourier transform."
   ]
  },
  {
   "cell_type": "code",
   "execution_count": 2,
   "id": "endless-edition",
   "metadata": {},
   "outputs": [],
   "source": [
    "# Function for the Fourier transform of the payoff\n",
    "def payoff(x, xi, alpha, K, L, U, C, call=1):\n",
    "    \n",
    "    # scale\n",
    "    S = C*np.exp(x)   \n",
    "    \n",
    "    # payoff\n",
    "    if call == 1: # call\n",
    "        g = np.exp(alpha*x) * np.maximum(S - K, 0) * (S>=L).astype(int) * (S<=U).astype(int)\n",
    "    else: # put\n",
    "        g = np.exp(alpha*x) * np.maximum(K - S, 0) * (S>=L).astype(int) * (S<=U).astype(int)\n",
    "        \n",
    "    # Analitical Fourier transform of the payoff\n",
    "    l = np.log(L/C) # lower log barrier\n",
    "    k = np.log(K/C) # log strike\n",
    "    u = np.log(U/C) # upper log barrier\n",
    "    \n",
    "    # Integration bounds\n",
    "    if call == 1:\n",
    "        a = max(l, k)\n",
    "        b = u\n",
    "    else:\n",
    "        a = min(k, u)\n",
    "        b = l\n",
    "        \n",
    "    xi_2 = alpha + 1j*xi\n",
    "    \n",
    "    # Fourier transform of damped payoff\n",
    "    with np.errstate(divide='ignore', invalid='ignore'): # disable warning for when alpha = 0\n",
    "        G = C*((np.exp(b * (1 + xi_2)) - np.exp(a * (1 + xi_2))) / (1 + xi_2) \\\n",
    "           - (np.exp(k + b*xi_2) - np.exp(k + a*xi_2)) / xi_2)\n",
    "    \n",
    "    # Eliminable discontinuities for xi = 0, otherwise 0/0 = NaN\n",
    "    if alpha == 0:\n",
    "        G[int(np.floor(len(G)/2))] = C*(np.exp(b)-np.exp(a)-np.exp(k)*(b-a))\n",
    "    elif alpha == -1:\n",
    "        G[int(np.floor(len(G)/2))] = C*(b-a+np.exp(k-b)-np.exp(k-a))\n",
    "    \n",
    "    return g, G, S"
   ]
  },
  {
   "cell_type": "markdown",
   "id": "median-harris",
   "metadata": {},
   "source": [
    "Now, let's define some parameters and compute the call and put prices."
   ]
  },
  {
   "cell_type": "code",
   "execution_count": 3,
   "id": "democratic-lease",
   "metadata": {},
   "outputs": [
    {
     "name": "stdout",
     "output_type": "stream",
     "text": [
      "The value of the call is 0.13617.\n",
      "The value of the put is  0.20232.\n"
     ]
    }
   ],
   "source": [
    "# Market parameters\n",
    "T = 1      # maturity\n",
    "S0 = 1    # spot price\n",
    "K = 1.1   # strike price\n",
    "r = 0.05   # risk-free interest rate\n",
    "q = 0.02   # dividend rate\n",
    "\n",
    "# Model parameter\n",
    "sigma = 0.4 # volatility\n",
    "\n",
    "# Model parameters for the jump part\n",
    "mu_j = -0.1\n",
    "sigma_j = 0.15\n",
    "lmbda = 0.5\n",
    "\n",
    "# Risk-neutral measure\n",
    "muRN = r-q-0.5*sigma**2 - lmbda*(np.exp(mu_j + 0.5*sigma_j**2) - 1) # drift\n",
    "\n",
    "# Fourier parameters\n",
    "xwidth = 6  # width of the support in real space\n",
    "ngrid = 2**8 # number of grid points\n",
    "alpha = -1 # damping factor for a call\n",
    "\n",
    "# Grids in real and Fourier space\n",
    "N = int(ngrid/2)\n",
    "b = xwidth/2 # upper bound of the support in real space\n",
    "dx = xwidth/ngrid\n",
    "x = dx * np.linspace(-N, N-1, 2*N)\n",
    "dxi = 2*np.pi/xwidth # Nyquist relation\n",
    "xi = dxi * np.linspace(-N, N-1, 2*N)\n",
    "\n",
    "# Characteristic function at time T\n",
    "xia = xi + 1j*alpha # call\n",
    "psi = 1j*muRN*xia - 0.5*(sigma*xia)**2 + lmbda*(np.exp(1j*mu_j*xia - 0.5*(sigma_j*xia)**2) - 1) # characteristic exponent\n",
    "psi_c = np.exp(psi*T) # characteristic function\n",
    "\n",
    "xia = xi - 1j*alpha # put\n",
    "psi = 1j*muRN*xia - 0.5*(sigma*xia)**2 + lmbda*(np.exp(1j*mu_j*xia - 0.5*(sigma_j*xia)**2) - 1) # characteristic exponent\n",
    "psi_p = np.exp(psi*T) # characteristic function\n",
    "\n",
    "# Fourier transform of the payoff\n",
    "U = S0 * np.exp(b)\n",
    "L = S0 * np.exp(-b)\n",
    "gc, Gc, S = payoff(x, xi, alpha, K, L, U, S0, 1)\n",
    "gp, Gp, S = payoff(x, xi, -alpha, K, L, U, S0, 0)\n",
    "    \n",
    "# Discounted expected payoff computed with the Plancherel theorem    \n",
    "c = np.exp(-r*T)*np.real(np.fft.fftshift(np.fft.fft(np.fft.ifftshift(Gc*np.conj(psi_c)))))/xwidth        \n",
    "Vc = interp1d(S, c, kind='slinear')(S0) # Call value\n",
    "p = np.exp(-r*T)*np.real(np.fft.fftshift(np.fft.fft(np.fft.ifftshift(Gp*np.conj(psi_p)))))/xwidth \n",
    "Vp = interp1d(S, p, kind='slinear')(S0) # Put value\n",
    "\n",
    "print('The value of the call is ' + str(np.round(Vc, 5)) + '.')\n",
    "print('The value of the put is  ' + str(np.round(Vp, 5)) + '.')"
   ]
  },
  {
   "cell_type": "markdown",
   "id": "productive-picture",
   "metadata": {},
   "source": [
    "Comparing these option prices with those obtained in the Black-Scholes notebook with the same parameters, we see that Merton jump diffusion yields slightly higher prices. This is due to the increased volatility resulting from the jump component.\n",
    "\n",
    "Because $V$ is a real number, taking its complex conjugate does not change and the integrand in Fourier space can also be written as $\\hat{g}^*(\\xi) \\psi (\\xi + i \\alpha, T)$ (i.e. we take the complex conjugate of the payoff instead of the characteristic function)."
   ]
  },
  {
   "cell_type": "code",
   "execution_count": 4,
   "id": "adopted-roulette",
   "metadata": {},
   "outputs": [
    {
     "name": "stdout",
     "output_type": "stream",
     "text": [
      "The value of the call is 0.13617.\n",
      "The value of the put is  0.20232.\n"
     ]
    }
   ],
   "source": [
    "# Discounted expected payoff computed with the Plancherel theorem    \n",
    "c = np.exp(-r*T)*np.real(np.fft.fftshift(np.fft.fft(np.fft.ifftshift(np.conj(Gc)*psi_c))))/xwidth        \n",
    "Vc = interp1d(S, c, kind='slinear')(S0) # Call value\n",
    "p = np.exp(-r*T)*np.real(np.fft.fftshift(np.fft.fft(np.fft.ifftshift(np.conj(Gp)*psi_p))))/xwidth \n",
    "Vp = interp1d(S, p, kind='slinear')(S0) # Put value\n",
    "\n",
    "print('The value of the call is ' + str(np.round(Vc, 5)) + '.')\n",
    "print('The value of the put is  ' + str(np.round(Vp, 5)) + '.')"
   ]
  },
  {
   "cell_type": "markdown",
   "id": "bizarre-employee",
   "metadata": {},
   "source": [
    "Also note that the integration in Fourier space is overengineered by taking the zero-frequency value of an FFT. We could obtain the same result using other integration techniques such as the trapezoidal integration rule."
   ]
  },
  {
   "cell_type": "code",
   "execution_count": 5,
   "id": "advance-technician",
   "metadata": {},
   "outputs": [
    {
     "name": "stdout",
     "output_type": "stream",
     "text": [
      "The value of the call is 0.13617.\n",
      "The value of the put is  0.20232.\n"
     ]
    }
   ],
   "source": [
    "# Discounted expected payoff computed with the Plancherel theorem    \n",
    "Vc = np.exp(-r*T)*np.real(np.trapz(np.conj(Gc)*psi_c))/xwidth        \n",
    "Vp = np.exp(-r*T)*np.real(np.trapz(np.conj(Gp)*psi_p))/xwidth \n",
    "\n",
    "print('The value of the call is ' + str(np.round(Vc, 5)) + '.')\n",
    "print('The value of the put is  ' + str(np.round(Vp, 5)) + '.')"
   ]
  },
  {
   "cell_type": "markdown",
   "id": "musical-immune",
   "metadata": {},
   "source": [
    "We can also compute the integral in log-price space by multiplying the undampened payoff by the one-time probability density function at maturity obtained with an inverse FFT of the characteristic function. "
   ]
  },
  {
   "cell_type": "code",
   "execution_count": 6,
   "id": "waiting-seller",
   "metadata": {},
   "outputs": [
    {
     "name": "stdout",
     "output_type": "stream",
     "text": [
      "The value of the call is 0.13614.\n",
      "The value of the put is  0.20229.\n"
     ]
    }
   ],
   "source": [
    "# characteristic function\n",
    "psi = 1j*muRN*xi - 0.5*(sigma*xi)**2 + lmbda*(np.exp(1j*mu_j*xi - 0.5*(sigma_j*xi)**2) - 1) # characteristic exponent\n",
    "psi = np.exp(psi*T) # characteristic function\n",
    "\n",
    "# PDF\n",
    "f = np.real(np.fft.fftshift(np.fft.fft(np.fft.ifftshift(psi))))/xwidth\n",
    "\n",
    "# Payoff\n",
    "gc = np.maximum(S0*np.exp(x) - K, 0)\n",
    "gp = np.maximum(K - S0*np.exp(x), 0)\n",
    "\n",
    "# Integrate and discount to get option values\n",
    "Vc = np.exp(-r*T)*np.trapz(gc*f*dx)\n",
    "Vp = np.exp(-r*T)*np.trapz(gp*f*dx)\n",
    "\n",
    "print('The value of the call is ' + str(np.round(Vc, 5)) + '.')\n",
    "print('The value of the put is  ' + str(np.round(Vp, 5)) + '.')"
   ]
  },
  {
   "cell_type": "markdown",
   "id": "legitimate-compatibility",
   "metadata": {},
   "source": [
    "Finally, let's plot the PDF obtained at the previous step."
   ]
  },
  {
   "cell_type": "code",
   "execution_count": 7,
   "id": "functioning-resolution",
   "metadata": {},
   "outputs": [
    {
     "data": {
      "image/png": "[encoded data removed]",
      "text/plain": [
       "<Figure size 720x360 with 1 Axes>"
      ]
     },
     "metadata": {
      "needs_background": "light"
     },
     "output_type": "display_data"
    }
   ],
   "source": [
    "fig = plt.figure(figsize=(10, 5))\n",
    "ax = fig.add_subplot(111)\n",
    "ax.plot(x, f)\n",
    "ax.set_xlabel(r'$x$')\n",
    "ax.set_ylabel(r'$f_X(x, T)$')\n",
    "ax.set_title('PDF at maturity');"
   ]
  },
  {
   "cell_type": "code",
   "execution_count": null,
   "id": "unusual-billion",
   "metadata": {},
   "outputs": [],
   "source": []
  }
 ],
 "metadata": {
  "authors": [
   {
    "email": "robin.guilliou@gmail.com",
    "name": "Robin Guilliou"
   }
  ],
  "kernelspec": {
   "display_name": "Python 3 (ipykernel)",
   "language": "python",
   "name": "python3"
  },
  "language_info": {
   "codemirror_mode": {
    "name": "ipython",
    "version": 3
   },
   "file_extension": ".py",
   "mimetype": "text/x-python",
   "name": "python",
   "nbconvert_exporter": "python",
   "pygments_lexer": "ipython3",
   "version": "3.7.11"
  },
  "latex_envs": {
   "LaTeX_envs_menu_present": true,
   "autoclose": false,
   "autocomplete": true,
   "bibliofile": "biblio.bib",
   "cite_by": "apalike",
   "current_citInitial": 1,
   "eqLabelWithNumbers": true,
   "eqNumInitial": 1,
   "hotkeys": {
    "equation": "Ctrl-E",
    "itemize": "Ctrl-I"
   },
   "labels_anchors": false,
   "latex_user_defs": false,
   "report_style_numbering": false,
   "user_envs_cfg": false
  },
  "toc": {
   "base_numbering": 1,
   "nav_menu": {},
   "number_sections": true,
   "sideBar": true,
   "skip_h1_title": true,
   "title_cell": "Table of Contents",
   "title_sidebar": "Contents",
   "toc_cell": false,
   "toc_position": {},
   "toc_section_display": true,
   "toc_window_display": false
  },
  "varInspector": {
   "cols": {
    "lenName": 16,
    "lenType": 16,
    "lenVar": 40
   },
   "kernels_config": {
    "python": {
     "delete_cmd_postfix": "",
     "delete_cmd_prefix": "del ",
     "library": "var_list.py",
     "varRefreshCmd": "print(var_dic_list())"
    },
    "r": {
     "delete_cmd_postfix": ") ",
     "delete_cmd_prefix": "rm(",
     "library": "var_list.r",
     "varRefreshCmd": "cat(var_dic_list()) "
    }
   },
   "types_to_exclude": [
    "module",
    "function",
    "builtin_function_or_method",
    "instance",
    "_Feature"
   ],
   "window_display": false
  }
 },
 "nbformat": 4,
 "nbformat_minor": 5
}

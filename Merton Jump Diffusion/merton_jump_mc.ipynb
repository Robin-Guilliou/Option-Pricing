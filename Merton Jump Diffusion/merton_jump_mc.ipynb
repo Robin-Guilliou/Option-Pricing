{
 "cells": [
  {
   "cell_type": "markdown",
   "id": "numerical-mixer",
   "metadata": {},
   "source": [
    "# Merton Jump Diffusion: Option Pricing with Monte Carlo\n",
    "\n",
    "In this notebook, we show how to use Monte Carlo simulation to price european options with a Merton jump diffusion process. The implementation is very similar to the one using the Black-Scholes model and the Euler-Maruyama scheme. The key differences are the additional term added to the risk-neutral drift and the normal compound Poisson process added to the geometric Brownian motion."
   ]
  },
  {
   "cell_type": "code",
   "execution_count": 3,
   "id": "recent-pension",
   "metadata": {},
   "outputs": [
    {
     "name": "stdout",
     "output_type": "stream",
     "text": [
      "Call price: 0.1362\n",
      "Put price:  0.2023\n"
     ]
    }
   ],
   "source": [
    "import numpy as np\n",
    "\n",
    "# Market parameters\n",
    "T = 1      # maturity\n",
    "S0 = 1     # spot price\n",
    "K = 1.1    # strike price\n",
    "r = 0.05   # risk-free interest rate\n",
    "q = 0.02   # dividend rate\n",
    "\n",
    "# Model parameter\n",
    "sigma = 0.4 # volatility\n",
    "\n",
    "# Model parameters of the jump part (NCPP)\n",
    "mu_j = -0.1\n",
    "sigma_j = 0.15\n",
    "lmbda = 0.5\n",
    "\n",
    "# Risk-neutral measure\n",
    "muRN = r-q-0.5*sigma**2 - lmbda*(np.exp(mu_j+0.5*sigma_j**2)-1) # drift\n",
    "\n",
    "# Monte Carlo parameters; npaths = nblocks*nsample\n",
    "nblocks = 20000 # number of blocks\n",
    "nsample = 10000 # number of samples per block\n",
    "\n",
    "# Initialize arrays\n",
    "Vc_list = np.zeros(nblocks) # call array\n",
    "Vp_list = np.zeros(nblocks) # put array\n",
    "\n",
    "# Monte Carlo\n",
    "for i in range(nblocks):\n",
    "    A = muRN*T + sigma*np.sqrt(T) * np.random.normal(size=(1, nsample))\n",
    "    N = np.random.poisson(lmbda, size=(1, nsample))\n",
    "    J = mu_j* N + sigma_j * np.sqrt(N) * np.random.normal(size=(1, nsample))\n",
    "    X = A+J\n",
    "    S = S0*np.exp(X)\n",
    "    Vc_list[i] = np.exp(-r*T)*np.mean(np.maximum(S - K, 0))\n",
    "    Vp_list[i] = np.exp(-r*T)*np.mean(np.maximum(K - S, 0))\n",
    "\n",
    "# Final call and put values\n",
    "Vc = np.mean(Vc_list)\n",
    "Vp = np.mean(Vp_list)\n",
    "\n",
    "print('Call price: ' + str(round(Vc, 4)))\n",
    "print('Put price:  ' + str(round(Vp, 4)))"
   ]
  },
  {
   "cell_type": "code",
   "execution_count": null,
   "id": "subsequent-buffer",
   "metadata": {},
   "outputs": [],
   "source": []
  }
 ],
 "metadata": {
  "kernelspec": {
   "display_name": "Python 3 (ipykernel)",
   "language": "python",
   "name": "python3"
  },
  "language_info": {
   "codemirror_mode": {
    "name": "ipython",
    "version": 3
   },
   "file_extension": ".py",
   "mimetype": "text/x-python",
   "name": "python",
   "nbconvert_exporter": "python",
   "pygments_lexer": "ipython3",
   "version": "3.7.11"
  },
  "latex_envs": {
   "LaTeX_envs_menu_present": true,
   "autoclose": false,
   "autocomplete": true,
   "bibliofile": "biblio.bib",
   "cite_by": "apalike",
   "current_citInitial": 1,
   "eqLabelWithNumbers": true,
   "eqNumInitial": 1,
   "hotkeys": {
    "equation": "Ctrl-E",
    "itemize": "Ctrl-I"
   },
   "labels_anchors": false,
   "latex_user_defs": false,
   "report_style_numbering": false,
   "user_envs_cfg": false
  },
  "toc": {
   "base_numbering": 1,
   "nav_menu": {},
   "number_sections": true,
   "sideBar": true,
   "skip_h1_title": false,
   "title_cell": "Table of Contents",
   "title_sidebar": "Contents",
   "toc_cell": false,
   "toc_position": {},
   "toc_section_display": true,
   "toc_window_display": false
  },
  "varInspector": {
   "cols": {
    "lenName": 16,
    "lenType": 16,
    "lenVar": 40
   },
   "kernels_config": {
    "python": {
     "delete_cmd_postfix": "",
     "delete_cmd_prefix": "del ",
     "library": "var_list.py",
     "varRefreshCmd": "print(var_dic_list())"
    },
    "r": {
     "delete_cmd_postfix": ") ",
     "delete_cmd_prefix": "rm(",
     "library": "var_list.r",
     "varRefreshCmd": "cat(var_dic_list()) "
    }
   },
   "types_to_exclude": [
    "module",
    "function",
    "builtin_function_or_method",
    "instance",
    "_Feature"
   ],
   "window_display": false
  }
 },
 "nbformat": 4,
 "nbformat_minor": 5
}

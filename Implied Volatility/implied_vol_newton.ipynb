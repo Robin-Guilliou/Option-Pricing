{
 "cells": [
  {
   "cell_type": "markdown",
   "id": "c4c825fa",
   "metadata": {},
   "source": [
    "# Implied Volatility: Newton-Raphson \n",
    "\n",
    "In this notebook, we show how to compute implied volatility for European options and plot the volatility smile.\n",
    "\n",
    "## Data\n",
    "\n",
    "We are going to use the Yahoo Finance API to get prices for options on Apple (ticker: AAPL) expiring on 16/09/2022 with strike price between 117.5 and 195. For reproducibility, the options data are also available in the files ```aapl_call_data.csv``` and ```aapl_put_data.csv```. We also need an estimate of the risk-free rate and the dividend yield of AAPL. For the risk-free rate, we use the 13 weeks treasury bill rate (^IRX) as a proxy. For the dividend yield proxy, we sum the for most recent quarterly dividends and divide the result by the current stock price.\n",
    "\n",
    "Let's import the libraries and retrieve all the necessary data."
   ]
  },
  {
   "cell_type": "code",
   "execution_count": 1,
   "id": "467ff42a",
   "metadata": {},
   "outputs": [],
   "source": [
    "import numpy as np\n",
    "import matplotlib.pyplot as plt\n",
    "from scipy.stats import norm\n",
    "import yfinance as yf\n",
    "import pandas as pd\n",
    "from datetime import datetime\n",
    "\n",
    "# Get apple last stock price\n",
    "aapl = yf.Ticker(\"AAPL\")\n",
    "div = aapl.get_dividends()[-4:]\n",
    "S = aapl.history(period='1d')['Close'][0]\n",
    "\n",
    "# Compute continuously compounded dividend yield\n",
    "div_yield_cont = np.log(1 + np.sum(div)/S)\n",
    "\n",
    "# Get proxy for continuously compounded risk-free interest rate\n",
    "rfr = yf.Ticker(\"^IRX\").history(period='1d')['Close'][0]\n",
    "rfr = rfr/100\n",
    "rfr_cont = np.log(1 + rfr)\n",
    "\n",
    "# Get option infos for the tenth next expiration date\n",
    "options_expiration = aapl.options[13]\n",
    "call_info = pd.DataFrame(aapl.option_chain(options_expiration)[0])\n",
    "put_info = pd.DataFrame(aapl.option_chain(options_expiration)[1])\n",
    "\n",
    "# Get strikes and corresponding market prices\n",
    "K = np.array(call_info['strike'])\n",
    "call_market_price = np.array(call_info['lastPrice'])\n",
    "put_market_price = np.array(put_info['lastPrice'])\n",
    "\n",
    "# Calculate time to maturity (as percentage of year)\n",
    "today = datetime.today().strftime('%Y-%m-%d')\n",
    "today = datetime.strptime(today, '%Y-%m-%d')\n",
    "expiration = datetime.strptime(options_expiration, '%Y-%m-%d')\n",
    "days_to_maturity = (expiration - today).days\n",
    "T = days_to_maturity/365\n",
    "\n",
    "# Get range of strikes and market prices\n",
    "K = K[40:58]\n",
    "call_market_price = call_market_price[40:58]\n",
    "put_market_price = put_market_price[40:58]"
   ]
  },
  {
   "cell_type": "markdown",
   "id": "7f3c3860",
   "metadata": {},
   "source": [
    "## Newton-Raphson method\n",
    "\n",
    "Let $V_{m}$ denote the market price of an option and $V_{b}(\\sigma)$ be the price of the option obtained from the Black-Scholes model when the volatility is $\\sigma$. Our goal is to find the volatility value $\\sigma_I$ such that \n",
    "\n",
    "\\begin{equation}\n",
    "    V_{m} = V_{b}(\\sigma_I).\n",
    "\\end{equation}\n",
    "\n",
    "To do so, we use the Newton-Raphson iterative technique. First, we start with an initial guess for the implied volatility, $\\sigma_I^{(0)}$. Then, at each step, we update the estimate according to \n",
    "\n",
    "\\begin{equation}\n",
    "    \\sigma_I^{(n + 1)} = \\sigma_I^{(n)} + \\frac{V_m - V_b \\left(\\sigma_I^{(n)} \\right)}{\\nu \\left(\\sigma_I^{(n)} \\right)}\n",
    "\\end{equation}\n",
    "\n",
    "where\n",
    "\n",
    "\\begin{equation}\n",
    "    \\nu = \\frac{\\partial V_b}{\\partial \\sigma} = S_t \\sqrt{T-t} e^{-q(T-t)} \\frac{1}{\\sqrt{2 \\pi}} \\exp \\left[ -\\frac{1}{2}  \\left( \\frac{\\log \\frac{S_t}{K} + (r - q + \\frac{\\sigma^2}{2})(T-t)}{\\sigma \\sqrt{T - t}} \\right)^2 \\right]\n",
    "\\end{equation}\n",
    "\n",
    "is the vega of the option. $S_t$ is the stock price at time $t$, $T$ is the maturity time, $K$ is the strike price $r$ is the risk-free rate and $q$ is the dividend rate.\n",
    "\n",
    "Let's implement a function that computes the implied volatility."
   ]
  },
  {
   "cell_type": "code",
   "execution_count": 2,
   "id": "92b5ecdc",
   "metadata": {},
   "outputs": [],
   "source": [
    "# Black-Scholes formula\n",
    "def black_scholes(S, K, T, r, q, sigma, call_put=1):\n",
    "    \"\"\" set call_put = 1 for call and 0 for put \"\"\"\n",
    "    d1 = (np.log(S/K) + (r-q + 0.5 * sigma**2) * T) / (sigma * np.sqrt(T))\n",
    "    d2 = d1 - sigma*np.sqrt(T)\n",
    "    \n",
    "    if call_put == 1:\n",
    "        V = S * np.exp(-q*T) * norm.cdf(d1) - K * np.exp(-r*T) * norm.cdf(d2)\n",
    "    else:\n",
    "        V = K * np.exp(-r*T) * norm.cdf(-d2) - S * np.exp(-q*T) * norm.cdf(-d1)\n",
    "    \n",
    "    # Changes nan values to 0\n",
    "    V = np.nan_to_num(V,nan=0.0)\n",
    "    \n",
    "    return V\n",
    "\n",
    "# Vega    \n",
    "def vega_bs(S, K, T, r, q, sigma):    \n",
    "    d1 = (np.log(S/K) + (r-q + 0.5 * sigma**2) * T) / (sigma * np.sqrt(T))\n",
    "    return S*np.sqrt(T)*np.exp(-q*T)*norm.pdf(d1)\n",
    "     \n",
    "# Compute implied volatility using Newton-Raphson method\n",
    "def implied_vol(target_price, S, K, T, r, q, max_iter, epsilon, initial_guess=0.5, call_put=1):\n",
    "    sigma = initial_guess\n",
    "    for i in range(max_iter):\n",
    "        V = black_scholes(S, K, T, r, q, sigma, call_put)\n",
    "        vega = vega_bs(S, K, T, r, q, sigma)\n",
    "        delta_price = target_price - V\n",
    "        if (np.abs(delta_price) < epsilon).all():\n",
    "            return sigma\n",
    "\n",
    "        #sigma = sigma + np.divide(delta_price, (vega/100))\n",
    "        sigma = sigma + delta_price / vega / 100\n",
    "    print('Optimisation failed (algorithm has not converged): return sigma from last iteration.')\n",
    "    return sigma"
   ]
  },
  {
   "cell_type": "markdown",
   "id": "f6427acc",
   "metadata": {},
   "source": [
    "Let's define some parameters to stop the optimization. The optimization algorithm stops when the maximum number of iterations is reached or when the algorithm has converged based on the tolerance level."
   ]
  },
  {
   "cell_type": "code",
   "execution_count": 3,
   "id": "741e7244",
   "metadata": {},
   "outputs": [],
   "source": [
    "# Optimisation parameters\n",
    "max_iter = 1000\n",
    "epsilon = 1e-4"
   ]
  },
  {
   "cell_type": "markdown",
   "id": "e12da822",
   "metadata": {},
   "source": [
    "Finally, let's compute the implied volatility for our option chain and plot the volatility smile."
   ]
  },
  {
   "cell_type": "code",
   "execution_count": 4,
   "id": "843a281a",
   "metadata": {},
   "outputs": [
    {
     "data": {
      "image/png": "[encoded data removed]",
      "text/plain": [
       "<Figure size 720x504 with 1 Axes>"
      ]
     },
     "metadata": {
      "needs_background": "light"
     },
     "output_type": "display_data"
    }
   ],
   "source": [
    "# Compute IV\n",
    "sigma_call = implied_vol(call_market_price, S, K, T, rfr_cont, div_yield_cont, max_iter, epsilon, 0.3, 1)\n",
    "sigma_put = implied_vol(put_market_price, S, K, T, rfr_cont, div_yield_cont, max_iter, epsilon, 0.3, 0)\n",
    "\n",
    "# Plot volatility smile\n",
    "fig = plt.figure(figsize=(10, 7))\n",
    "ax = fig.add_subplot(111)\n",
    "ax.plot(K, sigma_call, 'b', label='Call')\n",
    "ax.plot(K, sigma_put, 'r', label='Put')\n",
    "ax.vlines(S, 0, 1, color='k', ls='--', label='Stock price')\n",
    "ax.set_ylim(np.min((sigma_call.min(), sigma_put.min()))/1.03, np.max((sigma_call.max(), sigma_put.max()))*1.03)\n",
    "ax.set_xlabel('Strike price')\n",
    "ax.set_ylabel('Implied volatility')\n",
    "ax.set_title('Volatility smile')\n",
    "ax.legend(loc='best');"
   ]
  }
 ],
 "metadata": {
  "authors": [
   {
    "email": "robin.guilliou@gmail.com",
    "name": "Robin Guilliou"
   }
  ],
  "kernelspec": {
   "display_name": "Python 3 (ipykernel)",
   "language": "python",
   "name": "python3"
  },
  "language_info": {
   "codemirror_mode": {
    "name": "ipython",
    "version": 3
   },
   "file_extension": ".py",
   "mimetype": "text/x-python",
   "name": "python",
   "nbconvert_exporter": "python",
   "pygments_lexer": "ipython3",
   "version": "3.7.11"
  },
  "latex_envs": {
   "LaTeX_envs_menu_present": true,
   "autoclose": false,
   "autocomplete": true,
   "bibliofile": "biblio.bib",
   "cite_by": "apalike",
   "current_citInitial": 1,
   "eqLabelWithNumbers": true,
   "eqNumInitial": 1,
   "hotkeys": {
    "equation": "Ctrl-E",
    "itemize": "Ctrl-I"
   },
   "labels_anchors": false,
   "latex_user_defs": false,
   "report_style_numbering": false,
   "user_envs_cfg": false
  },
  "toc": {
   "base_numbering": 1,
   "nav_menu": {},
   "number_sections": true,
   "sideBar": true,
   "skip_h1_title": true,
   "title_cell": "Table of Contents",
   "title_sidebar": "Contents",
   "toc_cell": false,
   "toc_position": {},
   "toc_section_display": true,
   "toc_window_display": false
  },
  "varInspector": {
   "cols": {
    "lenName": 16,
    "lenType": 16,
    "lenVar": 40
   },
   "kernels_config": {
    "python": {
     "delete_cmd_postfix": "",
     "delete_cmd_prefix": "del ",
     "library": "var_list.py",
     "varRefreshCmd": "print(var_dic_list())"
    },
    "r": {
     "delete_cmd_postfix": ") ",
     "delete_cmd_prefix": "rm(",
     "library": "var_list.r",
     "varRefreshCmd": "cat(var_dic_list()) "
    }
   },
   "types_to_exclude": [
    "module",
    "function",
    "builtin_function_or_method",
    "instance",
    "_Feature"
   ],
   "window_display": false
  }
 },
 "nbformat": 4,
 "nbformat_minor": 5
}
